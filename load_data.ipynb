{
 "cells": [
  {
   "cell_type": "code",
   "execution_count": 185,
   "metadata": {},
   "outputs": [],
   "source": [
    "from lxml import html\n",
    "from scipy import misc\n",
    "import requests\n",
    "from PIL import Image\n",
    "import numpy as np\n",
    "from io import BytesIO\n",
    "import os\n"
   ]
  },
  {
   "cell_type": "code",
   "execution_count": 192,
   "metadata": {},
   "outputs": [],
   "source": [
    "#lowercase, hyphen-delimited\n",
    "def get_img_urls_by_artist(artist='claude-monet'):\n",
    "    url = 'https://www.wikiart.org/en/'+artist+'/all-works/text-list'\n",
    "    works_page = requests.get(url)\n",
    "    tree = html.fromstring(works_page.content)\n",
    "    painting_li = tree.xpath('//li[@class=\"painting-list-text-row\"]')\n",
    "    return list(map(lambda li: li[0].get('href')[3:], painting_li))\n",
    "    "
   ]
  },
  {
   "cell_type": "code",
   "execution_count": 4,
   "metadata": {},
   "outputs": [
    {
     "name": "stdout",
     "output_type": "stream",
     "text": [
      "<Element html at 0x21f028759f8>\n"
     ]
    }
   ],
   "source": [
    "img_urls = get_img_urls_by_artist()"
   ]
  },
  {
   "cell_type": "code",
   "execution_count": 135,
   "metadata": {},
   "outputs": [],
   "source": [
    "#unused\n",
    "class StatusIndicator:\n",
    "    def __init__(self, total):\n",
    "        self.total = total\n",
    "        self.n = 0\n",
    "        self.info = 'test info'\n",
    "        \n",
    "    def progress(self, total):\n",
    "        n=0\n",
    "        while n < total:\n",
    "            done = '#' * (n+1)\n",
    "            todo = '-' * (total-n-1)\n",
    "            s = '<{0}>'.format(done + todo)\n",
    "            if not todo:\n",
    "                s += '\\n'        \n",
    "            if n > 0:\n",
    "                s = '\\r' + s\n",
    "            #s = self.info + '\\r' + s\n",
    "            print(s, end='')\n",
    "            yield n\n",
    "            n+=1\n",
    "            \n",
    "    def set_info(msg):\n",
    "        this.info = msg"
   ]
  },
  {
   "cell_type": "code",
   "execution_count": 193,
   "metadata": {},
   "outputs": [],
   "source": [
    "def load_wikiart_imgs(img_urls, size='Large'):\n",
    "    base = 'https://uploads3.wikiart.org/images'\n",
    "    success = 0\n",
    "    failure = 0\n",
    "    images = []\n",
    "    for img_url in img_urls:\n",
    "        painting_url = base + img_url\n",
    "        extension = '.jpg!'+size+'.jpg'\n",
    "        full_url = painting_url + extension\n",
    "\n",
    "        res = requests.get(full_url)\n",
    "        tl = tr = bl = br = np.zeros((256, 256, 3))\n",
    "        if res.status_code == 404:\n",
    "            full_url = painting_url + '(1)' + extension\n",
    "            res = requests.get(full_url)\n",
    "        if res.status_code == 200 and ('jpeg' in res.headers['content-type'] or 'jpg' in res.headers['content-type']):\n",
    "            success += 1\n",
    "            full_img = np.array(Image.open(BytesIO(res.content)))\n",
    "            try:\n",
    "                images.append(tl[:, :] + full_img[:256, :256])\n",
    "                images.append(tr[:, :] + full_img[:256, -256:])\n",
    "                images.append(bl[:, :] + full_img[-256:, :256])\n",
    "                images.append(br[:, :] + full_img[-256:, -256:])\n",
    "            except:\n",
    "                print(\"Image too small: \", full_url)\n",
    "        elif res.status_code == 404:\n",
    "            failure += 1\n",
    "            print('Unable to find image: ', full_url)\n",
    "        else:\n",
    "            failure += 1\n",
    "            print('Unknown failure: ', full_url)\n",
    "    return success, failure, np.array(images)"
   ]
  },
  {
   "cell_type": "code",
   "execution_count": 194,
   "metadata": {},
   "outputs": [],
   "source": [
    "def download_wikiart_imgs(img_urls, path, size='Large'):\n",
    "    base = 'https://uploads3.wikiart.org/images'\n",
    "    success = 0\n",
    "    failure = 0\n",
    "    \n",
    "    if not os.path.exists('my_folder'):\n",
    "        os.makedirs(path)\n",
    "    for img_url in img_urls:\n",
    "        painting_url = base + img_url\n",
    "        extension = '.jpg!'+size+'.jpg'\n",
    "        full_url = painting_url + extension\n",
    "        res = requests.get(full_url, stream=True)\n",
    "        if res.status_code == 404:\n",
    "            full_url = painting_url + '(1)' + extension\n",
    "            res = requests.get(full_url)\n",
    "        if res.status_code == 200 and ('jpeg' in res.headers['content-type'] or 'jpg' in res.headers['content-type']):\n",
    "            success += 1\n",
    "            with open(path+'/'+str(success+failure)+'.jpg', 'wb') as f:\n",
    "                for chunk in res.iter_content(1024):\n",
    "                    f.write(chunk)\n",
    "        elif res.status_code == 404:\n",
    "            failure += 1\n",
    "            print('Unable to find image: ', full_url)\n",
    "        else:\n",
    "            failure += 1\n",
    "            print('Unknown failure: ', full_url)\n",
    "    return success, failure"
   ]
  },
  {
   "cell_type": "code",
   "execution_count": 187,
   "metadata": {},
   "outputs": [],
   "source": [
    "#succ, fail, images = load_wikiart_imgs(img_urls)"
   ]
  },
  {
   "cell_type": "code",
   "execution_count": null,
   "metadata": {},
   "outputs": [],
   "source": []
  },
  {
   "cell_type": "code",
   "execution_count": null,
   "metadata": {},
   "outputs": [],
   "source": []
  },
  {
   "cell_type": "code",
   "execution_count": null,
   "metadata": {},
   "outputs": [],
   "source": []
  },
  {
   "cell_type": "code",
   "execution_count": null,
   "metadata": {},
   "outputs": [],
   "source": []
  },
  {
   "cell_type": "code",
   "execution_count": 195,
   "metadata": {},
   "outputs": [],
   "source": [
    "img_urls = get_img_urls_by_artist(artist='eugene-boudin')"
   ]
  },
  {
   "cell_type": "code",
   "execution_count": 196,
   "metadata": {},
   "outputs": [
    {
     "name": "stdout",
     "output_type": "stream",
     "text": [
      "Unable to find image:  https://uploads3.wikiart.org/images/eugene-boudin/the-farm-in-saint-sim%C3%A9on-1856(1).jpg!Large.jpg\n",
      "Unable to find image:  https://uploads3.wikiart.org/images/eugene-boudin/forgiveness-in-the-st-anne-chapel-at-palud-plonevez-porzay-finistere-1858(1).jpg!Large.jpg\n",
      "Unable to find image:  https://uploads3.wikiart.org/images/eugene-boudin/study-of-fishing-boats(1).jpg!Large.jpg\n",
      "Unable to find image:  https://uploads3.wikiart.org/images/eugene-boudin/sky-1863(1).jpg!Large.jpg\n",
      "Unable to find image:  https://uploads3.wikiart.org/images/eugene-boudin/the-beach-at-deauville-1863(1).jpg!Large.jpg\n",
      "Unable to find image:  https://uploads3.wikiart.org/images/eugene-boudin/the-beach-at-trouville-1865(1).jpg!Large.jpg\n",
      "Unable to find image:  https://uploads3.wikiart.org/images/eugene-boudin/the-entrance-1865(1).jpg!Large.jpg\n",
      "Unable to find image:  https://uploads3.wikiart.org/images/eugene-boudin/the-beach-at-trouville-1869(1).jpg!Large.jpg\n",
      "Unable to find image:  https://uploads3.wikiart.org/images/eugene-boudin/fields-in-fervaques-1874(1).jpg!Large.jpg\n",
      "Unable to find image:  https://uploads3.wikiart.org/images/eugene-boudin/the-meuse-at-dordrecht-1882(1).jpg!Large.jpg\n",
      "Unable to find image:  https://uploads3.wikiart.org/images/eugene-boudin/trouville-piers-high-tide-1885(1).jpg!Large.jpg\n",
      "Unable to find image:  https://uploads3.wikiart.org/images/eugene-boudin/untitled-1885(1).jpg!Large.jpg\n",
      "Unable to find image:  https://uploads3.wikiart.org/images/eugene-boudin/on-the-beach-trouville-1887(1).jpg!Large.jpg\n",
      "Unable to find image:  https://uploads3.wikiart.org/images/eugene-boudin/the-port-of-ke-havre-dock-of-la-barre-1888(1).jpg!Large.jpg\n",
      "Unable to find image:  https://uploads3.wikiart.org/images/eugene-boudin/untitled-1890(1).jpg!Large.jpg\n",
      "Unable to find image:  https://uploads3.wikiart.org/images/eugene-boudin/untitled-1890-1(1).jpg!Large.jpg\n",
      "Unable to find image:  https://uploads3.wikiart.org/images/eugene-boudin/the-valley-of-the-touques-cows-in-the-meadow-1892(1).jpg!Large.jpg\n",
      "Unable to find image:  https://uploads3.wikiart.org/images/eugene-boudin/the-beach-at-tourg-ville-les-sablons-1893(1).jpg!Large.jpg\n",
      "Unable to find image:  https://uploads3.wikiart.org/images/eugene-boudin/the-harbor-at-deauville-1896(1).jpg!Large.jpg\n",
      "Unable to find image:  https://uploads3.wikiart.org/images/eugene-boudin/beach-scene-2(1).jpg!Large.jpg\n",
      "Unable to find image:  https://uploads3.wikiart.org/images/eugene-boudin/breton-family-by-the-fireplace(1).jpg!Large.jpg\n",
      "Unable to find image:  https://uploads3.wikiart.org/images/eugene-boudin/cows-near-the-toques(1).jpg!Large.jpg\n",
      "Unable to find image:  https://uploads3.wikiart.org/images/eugene-boudin/figures-on-beach-in-front-of-bathing-huts(1).jpg!Large.jpg\n",
      "Unable to find image:  https://uploads3.wikiart.org/images/eugene-boudin/sailboats-at-trouville(1).jpg!Large.jpg\n",
      "Unable to find image:  https://uploads3.wikiart.org/images/eugene-boudin/ships-at-le-havre(1).jpg!Large.jpg\n",
      "Unable to find image:  https://uploads3.wikiart.org/images/eugene-boudin/the-beach-at-trouville-1(1).jpg!Large.jpg\n",
      "Unable to find image:  https://uploads3.wikiart.org/images/eugene-boudin/trouville-1(1).jpg!Large.jpg\n",
      "Unable to find image:  https://uploads3.wikiart.org/images/eugene-boudin/untitled-1(1).jpg!Large.jpg\n"
     ]
    },
    {
     "data": {
      "text/plain": [
       "(532, 28)"
      ]
     },
     "execution_count": 196,
     "metadata": {},
     "output_type": "execute_result"
    }
   ],
   "source": [
    "download_wikiart_imgs(img_urls, 'boudin-paintings')"
   ]
  },
  {
   "cell_type": "code",
   "execution_count": null,
   "metadata": {},
   "outputs": [],
   "source": []
  }
 ],
 "metadata": {
  "kernelspec": {
   "display_name": "Python 3",
   "language": "python",
   "name": "python3"
  },
  "language_info": {
   "codemirror_mode": {
    "name": "ipython",
    "version": 3
   },
   "file_extension": ".py",
   "mimetype": "text/x-python",
   "name": "python",
   "nbconvert_exporter": "python",
   "pygments_lexer": "ipython3",
   "version": "3.7.3"
  }
 },
 "nbformat": 4,
 "nbformat_minor": 2
}
